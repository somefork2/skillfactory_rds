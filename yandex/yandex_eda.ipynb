{
 "cells": [
  {
   "cell_type": "code",
   "execution_count": 239,
   "metadata": {},
   "outputs": [],
   "source": [
    "import pandas as pd\n",
    "import numpy as np\n",
    "import datetime as dt\n",
    "import matplotlib.pyplot as plt"
   ]
  },
  {
   "cell_type": "code",
   "execution_count": 240,
   "metadata": {},
   "outputs": [],
   "source": [
    "file = 'yandex_hack.xlsx'\n",
    "df = pd.read_excel(file)\n",
    "df.order_created_datetime = pd.to_datetime(train_df.order_created_datetime)\n",
    "train_df = df[df.brand_name=='A']\n",
    "test_df = df[df.brand_name=='B']"
   ]
  },
  {
   "cell_type": "markdown",
   "metadata": {},
   "source": [
    "Определимся, как далеко друг от друга по времени комбинрованные заказы "
   ]
  },
  {
   "cell_type": "code",
   "execution_count": 242,
   "metadata": {},
   "outputs": [
    {
     "data": {
      "text/plain": [
       "delta    1028.0\n",
       "Name: 0.95, dtype: float64"
      ]
     },
     "execution_count": 242,
     "metadata": {},
     "output_type": "execute_result"
    }
   ],
   "source": [
    "seconds = []\n",
    "for i,row in train_df.iterrows():\n",
    "    if row['batched_with_order_id'] is not np.nan:\n",
    "        time1 = train_df.query(\"order_id == '{}'\".format(row['batched_with_order_id'])).order_created_datetime.item()\n",
    "        time2 = row['order_created_datetime']\n",
    "        seconds.append(abs((time2-time1).total_seconds()))\n",
    "sec = pd.DataFrame(seconds, columns = ['delta'])\n",
    "sec.describe()\n",
    "sec.quantile(.95)"
   ]
  },
  {
   "cell_type": "code",
   "execution_count": null,
   "metadata": {},
   "outputs": [],
   "source": []
  },
  {
   "cell_type": "markdown",
   "metadata": {},
   "source": [
    "Посчитаем, как много заказов попадают в данный промежуток времени при условии, что ресторан и город, а также курьер - одинаковые."
   ]
  },
  {
   "cell_type": "code",
   "execution_count": 237,
   "metadata": {},
   "outputs": [
    {
     "name": "stdout",
     "output_type": "stream",
     "text": [
      "707\n"
     ]
    }
   ],
   "source": [
    "ids = []\n",
    "skip_ids = []\n",
    "total = 0\n",
    "\n",
    "for i,row in train_df.iterrows():\n",
    "    if row['order_id'] not in skip_ids: \n",
    "        from_time = row['order_created_datetime']\n",
    "        to_time = row['order_created_datetime']+dt.timedelta(seconds=1028)#579\n",
    "        condition = '''\n",
    "        city == '{}' and rest_id == '{}' and order_created_datetime > '{}' and order_created_datetime < '{}' and courier_id == '{}' and order_id != '{}'\n",
    "        '''.format(row['city'], row['rest_id'], from_time, to_time, row['courier_id'], row['order_id'])\n",
    "        pretendents = train_df.query(condition)\n",
    "        if len(pretendents) >=1 and len(pretendents)<=2:\n",
    "            total += 1\n",
    "            skip_ids.append(row['order_id'])\n",
    "print(total)\n",
    "\n",
    "\n"
   ]
  },
  {
   "cell_type": "markdown",
   "metadata": {},
   "source": [
    "Получили число, больше, реальность. Осталось догадаться, как отфильтровать полученные значения.\n",
    "Далее считаем, сколько из полученной суммы - это правильно угаданные ответы."
   ]
  },
  {
   "cell_type": "code",
   "execution_count": 238,
   "metadata": {},
   "outputs": [
    {
     "data": {
      "text/plain": [
       "209"
      ]
     },
     "execution_count": 238,
     "metadata": {},
     "output_type": "execute_result"
    }
   ],
   "source": [
    "train_df[train_df.order_id.isin(skip_ids)].batched_with_order_id.value_counts().sum()"
   ]
  },
  {
   "cell_type": "markdown",
   "metadata": {},
   "source": [
    "Получили меньше, чем нужно, но, если умножить на 2 (поскольку для каждой пары мы находим инкрементируем наше значение только на один), то мы нашли  почти всех, но, к сожалению, ошибочные ответы тоже нужно умножить на 2."
   ]
  },
  {
   "cell_type": "code",
   "execution_count": 34,
   "metadata": {},
   "outputs": [],
   "source": []
  },
  {
   "cell_type": "code",
   "execution_count": null,
   "metadata": {},
   "outputs": [],
   "source": []
  },
  {
   "cell_type": "code",
   "execution_count": null,
   "metadata": {},
   "outputs": [],
   "source": []
  },
  {
   "cell_type": "code",
   "execution_count": 69,
   "metadata": {},
   "outputs": [],
   "source": []
  },
  {
   "cell_type": "code",
   "execution_count": null,
   "metadata": {},
   "outputs": [],
   "source": []
  },
  {
   "cell_type": "code",
   "execution_count": 139,
   "metadata": {},
   "outputs": [],
   "source": []
  },
  {
   "cell_type": "code",
   "execution_count": null,
   "metadata": {},
   "outputs": [],
   "source": []
  },
  {
   "cell_type": "code",
   "execution_count": null,
   "metadata": {},
   "outputs": [],
   "source": []
  },
  {
   "cell_type": "code",
   "execution_count": null,
   "metadata": {},
   "outputs": [],
   "source": []
  },
  {
   "cell_type": "code",
   "execution_count": null,
   "metadata": {},
   "outputs": [],
   "source": []
  }
 ],
 "metadata": {
  "kernelspec": {
   "display_name": "Python 3",
   "language": "python",
   "name": "python3"
  },
  "language_info": {
   "codemirror_mode": {
    "name": "ipython",
    "version": 3
   },
   "file_extension": ".py",
   "mimetype": "text/x-python",
   "name": "python",
   "nbconvert_exporter": "python",
   "pygments_lexer": "ipython3",
   "version": "3.8.3"
  }
 },
 "nbformat": 4,
 "nbformat_minor": 4
}
